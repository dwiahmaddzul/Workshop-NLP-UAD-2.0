{
 "cells": [
  {
   "cell_type": "markdown",
   "metadata": {
    "id": "AgSsr642pDyH"
   },
   "source": [
    "# Scrapping Data News Artikel "
   ]
  },
  {
   "cell_type": "markdown",
   "metadata": {
    "id": "VkpsIL6hpDyX"
   },
   "source": [
    "Newspaper3k adalah package yang memudahkan kita untuk mengambil data artikel berita online. Package ini menyediakan function untuk mengekstraksi tidak hanya artikel utama dari sebuah berita, namun juga judul, penulis, dan tanggal artikel itu diterbitkan secara online. "
   ]
  },
  {
   "cell_type": "markdown",
   "metadata": {
    "id": "hWDcgh4xpDyb"
   },
   "source": [
    "## Intsalasi Package"
   ]
  },
  {
   "cell_type": "markdown",
   "metadata": {
    "id": "ojBsjvF-pDye"
   },
   "source": [
    "Menginstal `package` yang diperlukan yaitu `requests` untuk mengakses alamat url dan `newspaper3k` melakukan scrapping artikel berita."
   ]
  },
  {
   "cell_type": "code",
   "execution_count": null,
   "metadata": {
    "id": "x365OYJUpDyh",
    "outputId": "bc579d2b-7e87-4e1d-ae0d-57d99f2593b2"
   },
   "outputs": [
    {
     "name": "stdout",
     "output_type": "stream",
     "text": [
      "Requirement already satisfied: requests in c:\\users\\joko eliyanto\\anaconda3\\lib\\site-packages (2.24.0)\n",
      "Requirement already satisfied: idna<3,>=2.5 in c:\\users\\joko eliyanto\\anaconda3\\lib\\site-packages (from requests) (2.10)\n",
      "Requirement already satisfied: certifi>=2017.4.17 in c:\\users\\joko eliyanto\\anaconda3\\lib\\site-packages (from requests) (2021.5.30)\n",
      "Requirement already satisfied: chardet<4,>=3.0.2 in c:\\users\\joko eliyanto\\anaconda3\\lib\\site-packages (from requests) (3.0.4)\n",
      "Requirement already satisfied: urllib3!=1.25.0,!=1.25.1,<1.26,>=1.21.1 in c:\\users\\joko eliyanto\\anaconda3\\lib\\site-packages (from requests) (1.25.11)\n",
      "Requirement already satisfied: newspaper3k in c:\\users\\joko eliyanto\\anaconda3\\lib\\site-packages (0.2.8)\n",
      "Requirement already satisfied: python-dateutil>=2.5.3 in c:\\users\\joko eliyanto\\anaconda3\\lib\\site-packages (from newspaper3k) (2.8.1)\n",
      "Requirement already satisfied: nltk>=3.2.1 in c:\\users\\joko eliyanto\\anaconda3\\lib\\site-packages (from newspaper3k) (3.4.5)\n",
      "Requirement already satisfied: tldextract>=2.0.1 in c:\\users\\joko eliyanto\\anaconda3\\lib\\site-packages (from newspaper3k) (3.1.1)\n",
      "Requirement already satisfied: Pillow>=3.3.0 in c:\\users\\joko eliyanto\\anaconda3\\lib\\site-packages (from newspaper3k) (8.0.1)\n",
      "Requirement already satisfied: lxml>=3.6.0 in c:\\users\\joko eliyanto\\anaconda3\\lib\\site-packages (from newspaper3k) (4.6.1)\n",
      "Requirement already satisfied: requests>=2.10.0 in c:\\users\\joko eliyanto\\anaconda3\\lib\\site-packages (from newspaper3k) (2.24.0)\n",
      "Requirement already satisfied: tinysegmenter==0.3 in c:\\users\\joko eliyanto\\anaconda3\\lib\\site-packages (from newspaper3k) (0.3)\n",
      "Requirement already satisfied: cssselect>=0.9.2 in c:\\users\\joko eliyanto\\anaconda3\\lib\\site-packages (from newspaper3k) (1.1.0)\n",
      "Requirement already satisfied: feedfinder2>=0.0.4 in c:\\users\\joko eliyanto\\anaconda3\\lib\\site-packages (from newspaper3k) (0.0.4)\n",
      "Requirement already satisfied: beautifulsoup4>=4.4.1 in c:\\users\\joko eliyanto\\anaconda3\\lib\\site-packages (from newspaper3k) (4.9.3)\n",
      "Requirement already satisfied: PyYAML>=3.11 in c:\\users\\joko eliyanto\\anaconda3\\lib\\site-packages (from newspaper3k) (5.3.1)\n",
      "Requirement already satisfied: feedparser>=5.2.1 in c:\\users\\joko eliyanto\\anaconda3\\lib\\site-packages (from newspaper3k) (6.0.8)\n",
      "Requirement already satisfied: jieba3k>=0.35.1 in c:\\users\\joko eliyanto\\anaconda3\\lib\\site-packages (from newspaper3k) (0.35.1)\n",
      "Requirement already satisfied: soupsieve>1.2 in c:\\users\\joko eliyanto\\anaconda3\\lib\\site-packages (from beautifulsoup4>=4.4.1->newspaper3k) (2.0.1)\n",
      "Requirement already satisfied: six in c:\\users\\joko eliyanto\\anaconda3\\lib\\site-packages (from feedfinder2>=0.0.4->newspaper3k) (1.15.0)\n",
      "Requirement already satisfied: sgmllib3k in c:\\users\\joko eliyanto\\anaconda3\\lib\\site-packages (from feedparser>=5.2.1->newspaper3k) (1.0.0)\n",
      "Requirement already satisfied: certifi>=2017.4.17 in c:\\users\\joko eliyanto\\anaconda3\\lib\\site-packages (from requests>=2.10.0->newspaper3k) (2021.5.30)\n",
      "Requirement already satisfied: idna<3,>=2.5 in c:\\users\\joko eliyanto\\anaconda3\\lib\\site-packages (from requests>=2.10.0->newspaper3k) (2.10)\n",
      "Requirement already satisfied: urllib3!=1.25.0,!=1.25.1,<1.26,>=1.21.1 in c:\\users\\joko eliyanto\\anaconda3\\lib\\site-packages (from requests>=2.10.0->newspaper3k) (1.25.11)\n",
      "Requirement already satisfied: chardet<4,>=3.0.2 in c:\\users\\joko eliyanto\\anaconda3\\lib\\site-packages (from requests>=2.10.0->newspaper3k) (3.0.4)\n",
      "Requirement already satisfied: filelock>=3.0.8 in c:\\users\\joko eliyanto\\anaconda3\\lib\\site-packages (from tldextract>=2.0.1->newspaper3k) (3.0.12)\n",
      "Requirement already satisfied: requests-file>=1.4 in c:\\users\\joko eliyanto\\anaconda3\\lib\\site-packages (from tldextract>=2.0.1->newspaper3k) (1.5.1)\n"
     ]
    }
   ],
   "source": [
    "!pip install requests\n",
    "!pip install newspaper3k"
   ]
  },
  {
   "cell_type": "markdown",
   "metadata": {
    "id": "PxYUrS_ZpDyq"
   },
   "source": [
    "## Import Library"
   ]
  },
  {
   "cell_type": "code",
   "execution_count": null,
   "metadata": {
    "id": "k-Rhll1hpDys"
   },
   "outputs": [],
   "source": [
    "from newspaper import Article\n",
    "import requests"
   ]
  },
  {
   "cell_type": "markdown",
   "metadata": {
    "id": "nTsR2w8QpDyv"
   },
   "source": [
    "## Web Scrapping Single Page News Article"
   ]
  },
  {
   "cell_type": "markdown",
   "metadata": {
    "id": "5j0zjTkIpDyz"
   },
   "source": [
    "Pada bagian ini kita akan melakukan scrapping News Artikel menggunakan Library newspaper. Pertama kita siapkan url news artikel yang ingin kita scraping."
   ]
  },
  {
   "cell_type": "markdown",
   "metadata": {
    "id": "3WjJjopPpDy1"
   },
   "source": [
    "### Menyiapkan Link Berita"
   ]
  },
  {
   "cell_type": "code",
   "execution_count": null,
   "metadata": {
    "id": "NXUeat6kpDy4"
   },
   "outputs": [],
   "source": [
    "link = 'https://news.detik.com/berita/d-5497387/universitas-swasta-yang-bagus-di-yogyakarta-ini-daftarnya?_ga=2.24382136.302320303.1641387551-681344513.1639118252'"
   ]
  },
  {
   "cell_type": "markdown",
   "metadata": {
    "id": "MOgZrmx0pDy7"
   },
   "source": [
    "### Request Alamat URL"
   ]
  },
  {
   "cell_type": "markdown",
   "metadata": {
    "id": "Te3pnt-mpDy9"
   },
   "source": [
    "Selanjutnya kita melakukan request ke halaman url yang kita gunakan, apakah halaman tersebut mengijinkan kita untuk mengakses data yang ada. Jika muncul `<Response [200]>` itu berarti alamat tersebut berhasil kita akses untuk kemudian di scrapping!"
   ]
  },
  {
   "cell_type": "code",
   "execution_count": null,
   "metadata": {
    "id": "EEqaNdvEpDy-",
    "outputId": "91a6e8cb-6f8a-400a-8565-eab3df8a534e"
   },
   "outputs": [
    {
     "data": {
      "text/plain": [
       "<Response [200]>"
      ]
     },
     "execution_count": 4,
     "metadata": {},
     "output_type": "execute_result"
    }
   ],
   "source": [
    "# Request Halaman URL\n",
    "url = requests.get(link)\n",
    "url"
   ]
  },
  {
   "cell_type": "markdown",
   "metadata": {
    "id": "VN-bgCRlpDzC"
   },
   "source": [
    "## Scrapping Article News using Newspaper Library"
   ]
  },
  {
   "cell_type": "code",
   "execution_count": null,
   "metadata": {
    "id": "qgt7VdK3pDzD"
   },
   "outputs": [],
   "source": [
    "# Mendefinisikan url link\n",
    "url = 'https://news.detik.com/berita/d-5497387/universitas-swasta-yang-bagus-di-yogyakarta-ini-daftarnya?_ga=2.24382136.302320303.1641387551-681344513.1639118252'\n",
    "article = Article(url)"
   ]
  },
  {
   "cell_type": "code",
   "execution_count": null,
   "metadata": {
    "id": "hbMJnkoFpDzF",
    "outputId": "4c8b92f6-3392-4dfb-8567-ee59309384a7"
   },
   "outputs": [
    {
     "data": {
      "text/plain": [
       "<newspaper.article.Article at 0x2a0c676f640>"
      ]
     },
     "execution_count": 6,
     "metadata": {},
     "output_type": "execute_result"
    }
   ],
   "source": [
    "article"
   ]
  },
  {
   "cell_type": "code",
   "execution_count": null,
   "metadata": {
    "id": "sywThvDepDzI"
   },
   "outputs": [],
   "source": [
    "article.download()\n",
    "article.parse()"
   ]
  },
  {
   "cell_type": "code",
   "execution_count": null,
   "metadata": {
    "id": "-PS99nBQpDzK",
    "outputId": "11ecd146-99f8-477a-885c-e16682678023"
   },
   "outputs": [
    {
     "data": {
      "text/plain": [
       "'Universitas Swasta yang Bagus di Yogyakarta, Ini Daftarnya'"
      ]
     },
     "execution_count": 8,
     "metadata": {},
     "output_type": "execute_result"
    }
   ],
   "source": [
    "# Mengambil Judul Artikel\n",
    "article.title"
   ]
  },
  {
   "cell_type": "code",
   "execution_count": null,
   "metadata": {
    "id": "093kkJPVpDzL",
    "outputId": "28016762-365d-44f7-f4ea-789be5102c33"
   },
   "outputs": [
    {
     "data": {
      "text/plain": [
       "datetime.datetime(2021, 3, 17, 19, 58, 52)"
      ]
     },
     "execution_count": 9,
     "metadata": {},
     "output_type": "execute_result"
    }
   ],
   "source": [
    "# Mengambil Tanggal Rilis Berita\n",
    "article.publish_date"
   ]
  },
  {
   "cell_type": "code",
   "execution_count": null,
   "metadata": {
    "id": "QdYMt30SpDzN",
    "outputId": "4afd0d8c-834c-4c8b-8348-3b713aec37d8"
   },
   "outputs": [
    {
     "data": {
      "text/plain": [
       "['Tim Detikcom',\n",
       " 'Https',\n",
       " 'Www.Facebook.Com Detikcom',\n",
       " 'Tim Detikcom - Detiknews']"
      ]
     },
     "execution_count": 10,
     "metadata": {},
     "output_type": "execute_result"
    }
   ],
   "source": [
    "# Mengambil Penulis Berita\n",
    "article.authors"
   ]
  },
  {
   "cell_type": "code",
   "execution_count": null,
   "metadata": {
    "id": "JQOf4scqpDzO",
    "outputId": "a7e23e63-4895-4474-905f-bdfb7a718af1"
   },
   "outputs": [
    {
     "data": {
      "text/plain": [
       "'https://akcdn.detik.net.id/api/wm/2021/01/01/malam-pergantian-tahun-baru-2021_169.jpeg?wid=54&w=650&v=1&t=jpeg'"
      ]
     },
     "execution_count": 11,
     "metadata": {},
     "output_type": "execute_result"
    }
   ],
   "source": [
    "# Mengambil Link Gambar Utama Berita\n",
    "article.top_image"
   ]
  },
  {
   "cell_type": "code",
   "execution_count": null,
   "metadata": {
    "id": "WXLZ6HR3pDzP",
    "outputId": "db871bbd-4915-48f4-88b0-5f43c75ab122"
   },
   "outputs": [
    {
     "name": "stdout",
     "output_type": "stream",
     "text": [
      "Kota Yogyakarta merupakan salah satu kota di Indonesia yang banyak dipilih oleh calon mahasiswa dari berbagai daerah untuk kuliah. Hal itu salah satunya karena di Yogyakarta terdapat cukup banyak universitas terbaik di Indonesia, baik universitas negeri maupun universitas swasta.\n",
      "\n",
      "Nah, bagi detikers yang ingin berkuliah di Yogyakarta, namun tidak lolos seleksi PTN, detikers bisa mencoba masuk ke beberapa universitas swasta yang bagus di kota ini. Maka dari itu, untuk memudahkan detikers dalam menentukan pilihan, di artikel ini akan membahas secara singkat mengenai universitas-universitas tersebut. Berikut pembahasannya.\n",
      "\n",
      "1. Universitas Islam Indonesia\n",
      "\n",
      "Universitas yang berlokasi di Sleman ini merupakan universitas swasta yang sudah berdiri sejak 8 Juli 1945. Universitas ini selain mempunyai program sarjana juga mempunyai program diploma/vokasi. Sementara program D3 universitas ini yaitu jurusan Akuntansi, Manajemen, Analisis Kimia dan Perbankan dan Keuangan. Sementara program S1 lebih banyak dari itu, misalnya Pendidikan Bahasa Inggris, Pendidikan Agama Islam, Ilmu Komunikasi, Hukum, Hubungan Internasional, Arsitektur, Ekonomi Pembangunan dan beberapa lainnya.\n",
      "\n",
      "2. Universitas Muhammadiyah Yogyakarta\n",
      "\n",
      "Jika UII merupakan universitas swasta bagus di Yogyakarta berada di wilayah Sleman, Universitas Muhammadiyah Yogyakarta ini berada di wilayah Bantul. Universitas yang sering disingkat UMY ini sudah berdiri sejak 1 Maret 1981 dan sekarang sudah ada 8 fakultas. Tentunya ada banyak jurusan yang bisa detikers pilih di sini, misalnya jurusan Ilmu Hukum, Ekonomi, Manajemen, Akuntansi, Syariah Economics, Teknik Mesin, Teknologi Informasi, Pendidikan Agama Islam, Pendidikan Bahasa Inggris, Pendidikan Bahasa Jepang, dan masih banyak lainnya.\n",
      "\n",
      "3. Universitas Atma Jaya Yogyakarta\n",
      "\n",
      "Universitas Atma Jaya tidak hanya ada di Jakarta dan Makassar saja, melainkan di Yogyakarta pun ada. Bahkan universitas ini termasuk universitas swasta terbaik di Yogyakarta. UAJY lokasinya sama dengan UII, yaitu di daerah Sleman. Universitas ini sudah berdiri sejak 27 September 1963 di bawah dari Yayasan Slamet Rijadi. Universitas ini mempunyai banyak jurusan bagus untuk detikers pilih, contohnya Biologi, Ilmu Komunikasi, Sosiologi, Teknik Industri dan berbagai jurusan lainnya.\n",
      "\n",
      "\n",
      "\n",
      "4. Universitas Sanata Dharma Yogyakarta\n",
      "\n",
      "Universitas swasta yang bagus selanjutnya yang ada di Yogyakarta adalah Universitas Sanata Dharma. Kampus USD sendiri terdiri dari 5 kampus dan tersebar di beberapa wilayah Yogyakarta.\n",
      "\n",
      "\n",
      "\n",
      "USD sendiri mempunyai 7 fakultas serta 1 program pascasarjana. Beberapa fakultas di USD, antara lain Fakultas Psikologi, Fakultas Sains dan Teknologi, Fakultas Farmasi dan lain-lain.\n",
      "\n",
      "5. Universitas Ahmad Dahlan\n",
      "\n",
      "Universitas swasta yang satu berdiri sejak 18 November 1960. Awalnya universitas ini merupakan IKIP Muhammadiyah Yogyakarta. Sebagai universitas swasta yang masuk ke dalam salah satu yang terbaik di Yogyakarta, UAD mempunyai banyak jurusan yang bisa dipilih, misalnya Bahasa dan Sastra Arab, Matematika, Manajemen, Akuntansi, Pendidikan Bahasa dan Sastra Indonesia, Pendidikan Bahasa Inggris, Sastra Inggris dan lain-lain.\n",
      "\n",
      "6. Universitas Kristen Duta Wacana\n",
      "\n",
      "Universitas yang sering disingkat UKDW ini sudah berdiri sejak 31 Oktober 1985. Ada 7 fakultas saat ini di universitas ini. Jurusan-Jurusan yang bisa detikers jika ingin berkuliah di sini, antara lain Akuntansi, Biologi, Arsitektur, Teologi, Desain Produk, Manajemen, Informatika, Sistem Informasi, Pendidikan Bahasa Inggris dan Kedokteran.\n",
      "\n",
      "Itulah beberapa universitas swasta yang bagus di Yogyakarta yang bisa detikers pilih untuk berkuliah. Tidak bisa masuk ke universitas negeri di Yogyakarta, bukan berarti detikers harus menyerah untuk melanjutkan pendidikan. Maka dari itu, mempertimbangkan untuk masuk ke universitas swasta bagus di Yogyakarta adalah hal yang bisa dipilih. Semoga bermanfaat.\n"
     ]
    }
   ],
   "source": [
    "# Mengambil Text Berita\n",
    "print(article.text)"
   ]
  },
  {
   "cell_type": "markdown",
   "metadata": {
    "id": "jl7hryajpDzR"
   },
   "source": [
    "## Membuat Fungsi Scrapping Artikel Berita"
   ]
  },
  {
   "cell_type": "code",
   "execution_count": null,
   "metadata": {
    "id": "ldxQMryZpDzT"
   },
   "outputs": [],
   "source": [
    "def scrapping_news_article(link):\n",
    "    #request url\n",
    "    article = Article(link)\n",
    "  \n",
    "    #html parser \n",
    "    article.download()\n",
    "    article.parse()\n",
    "\n",
    "    #Judul Artikel\n",
    "    judul_berita = article.title\n",
    "\n",
    "    #Tanggal Berita diterbitkan\n",
    "    tanggal_berita = article.publish_date\n",
    "\n",
    "    #Penulis Berita\n",
    "    penulis_berita = article.authors\n",
    "\n",
    "    #Text Berita\n",
    "    isi_berita =  article.text\n",
    "\n",
    "    #Link Lengkap\n",
    "    link_lengkap_berita = link\n",
    "  \n",
    "    return judul_berita, tanggal_berita, penulis_berita, isi_berita, link_lengkap_berita"
   ]
  },
  {
   "cell_type": "code",
   "execution_count": null,
   "metadata": {
    "id": "Iy5g3oSCpDzU"
   },
   "outputs": [],
   "source": [
    "judul_berita, tanggal_berita, penulis_berita, isi_berita, link_lengkap_berita = scrapping_news_article(link)"
   ]
  },
  {
   "cell_type": "code",
   "execution_count": null,
   "metadata": {
    "id": "4kO3ugOapDzW",
    "outputId": "8a89c444-75d4-49d2-fae6-ea08fef7afb7"
   },
   "outputs": [
    {
     "data": {
      "text/plain": [
       "'Universitas Swasta yang Bagus di Yogyakarta, Ini Daftarnya'"
      ]
     },
     "execution_count": 15,
     "metadata": {},
     "output_type": "execute_result"
    }
   ],
   "source": [
    "judul_berita"
   ]
  },
  {
   "cell_type": "code",
   "execution_count": null,
   "metadata": {
    "id": "N2SxtLcppDzY",
    "outputId": "9602f9bd-8f60-4c04-b2a6-f90dcbb04339"
   },
   "outputs": [
    {
     "data": {
      "text/plain": [
       "datetime.datetime(2021, 3, 17, 19, 58, 52)"
      ]
     },
     "execution_count": 16,
     "metadata": {},
     "output_type": "execute_result"
    }
   ],
   "source": [
    "tanggal_berita"
   ]
  },
  {
   "cell_type": "code",
   "execution_count": null,
   "metadata": {
    "id": "-oINc1JspDzZ",
    "outputId": "c194d1b2-51b1-41c2-c7bb-e71b8b8d91d9"
   },
   "outputs": [
    {
     "data": {
      "text/plain": [
       "'Kota Yogyakarta merupakan salah satu kota di Indonesia yang banyak dipilih oleh calon mahasiswa dari berbagai daerah untuk kuliah. Hal itu salah satunya karena di Yogyakarta terdapat cukup banyak universitas terbaik di Indonesia, baik universitas negeri maupun universitas swasta.\\n\\nNah, bagi detikers yang ingin berkuliah di Yogyakarta, namun tidak lolos seleksi PTN, detikers bisa mencoba masuk ke beberapa universitas swasta yang bagus di kota ini. Maka dari itu, untuk memudahkan detikers dalam menentukan pilihan, di artikel ini akan membahas secara singkat mengenai universitas-universitas tersebut. Berikut pembahasannya.\\n\\n1. Universitas Islam Indonesia\\n\\nUniversitas yang berlokasi di Sleman ini merupakan universitas swasta yang sudah berdiri sejak 8 Juli 1945. Universitas ini selain mempunyai program sarjana juga mempunyai program diploma/vokasi. Sementara program D3 universitas ini yaitu jurusan Akuntansi, Manajemen, Analisis Kimia dan Perbankan dan Keuangan. Sementara program S1 lebih banyak dari itu, misalnya Pendidikan Bahasa Inggris, Pendidikan Agama Islam, Ilmu Komunikasi, Hukum, Hubungan Internasional, Arsitektur, Ekonomi Pembangunan dan beberapa lainnya.\\n\\n2. Universitas Muhammadiyah Yogyakarta\\n\\nJika UII merupakan universitas swasta bagus di Yogyakarta berada di wilayah Sleman, Universitas Muhammadiyah Yogyakarta ini berada di wilayah Bantul. Universitas yang sering disingkat UMY ini sudah berdiri sejak 1 Maret 1981 dan sekarang sudah ada 8 fakultas. Tentunya ada banyak jurusan yang bisa detikers pilih di sini, misalnya jurusan Ilmu Hukum, Ekonomi, Manajemen, Akuntansi, Syariah Economics, Teknik Mesin, Teknologi Informasi, Pendidikan Agama Islam, Pendidikan Bahasa Inggris, Pendidikan Bahasa Jepang, dan masih banyak lainnya.\\n\\n3. Universitas Atma Jaya Yogyakarta\\n\\nUniversitas Atma Jaya tidak hanya ada di Jakarta dan Makassar saja, melainkan di Yogyakarta pun ada. Bahkan universitas ini termasuk universitas swasta terbaik di Yogyakarta. UAJY lokasinya sama dengan UII, yaitu di daerah Sleman. Universitas ini sudah berdiri sejak 27 September 1963 di bawah dari Yayasan Slamet Rijadi. Universitas ini mempunyai banyak jurusan bagus untuk detikers pilih, contohnya Biologi, Ilmu Komunikasi, Sosiologi, Teknik Industri dan berbagai jurusan lainnya.\\n\\n\\n\\n4. Universitas Sanata Dharma Yogyakarta\\n\\nUniversitas swasta yang bagus selanjutnya yang ada di Yogyakarta adalah Universitas Sanata Dharma. Kampus USD sendiri terdiri dari 5 kampus dan tersebar di beberapa wilayah Yogyakarta.\\n\\n\\n\\nUSD sendiri mempunyai 7 fakultas serta 1 program pascasarjana. Beberapa fakultas di USD, antara lain Fakultas Psikologi, Fakultas Sains dan Teknologi, Fakultas Farmasi dan lain-lain.\\n\\n5. Universitas Ahmad Dahlan\\n\\nUniversitas swasta yang satu berdiri sejak 18 November 1960. Awalnya universitas ini merupakan IKIP Muhammadiyah Yogyakarta. Sebagai universitas swasta yang masuk ke dalam salah satu yang terbaik di Yogyakarta, UAD mempunyai banyak jurusan yang bisa dipilih, misalnya Bahasa dan Sastra Arab, Matematika, Manajemen, Akuntansi, Pendidikan Bahasa dan Sastra Indonesia, Pendidikan Bahasa Inggris, Sastra Inggris dan lain-lain.\\n\\n6. Universitas Kristen Duta Wacana\\n\\nUniversitas yang sering disingkat UKDW ini sudah berdiri sejak 31 Oktober 1985. Ada 7 fakultas saat ini di universitas ini. Jurusan-Jurusan yang bisa detikers jika ingin berkuliah di sini, antara lain Akuntansi, Biologi, Arsitektur, Teologi, Desain Produk, Manajemen, Informatika, Sistem Informasi, Pendidikan Bahasa Inggris dan Kedokteran.\\n\\nItulah beberapa universitas swasta yang bagus di Yogyakarta yang bisa detikers pilih untuk berkuliah. Tidak bisa masuk ke universitas negeri di Yogyakarta, bukan berarti detikers harus menyerah untuk melanjutkan pendidikan. Maka dari itu, mempertimbangkan untuk masuk ke universitas swasta bagus di Yogyakarta adalah hal yang bisa dipilih. Semoga bermanfaat.'"
      ]
     },
     "execution_count": 17,
     "metadata": {},
     "output_type": "execute_result"
    }
   ],
   "source": [
    "isi_berita"
   ]
  },
  {
   "cell_type": "code",
   "execution_count": null,
   "metadata": {
    "id": "ZiIuTxPrpDzb",
    "outputId": "128eb666-9c26-4de3-c803-ca802e342bbf"
   },
   "outputs": [
    {
     "data": {
      "text/plain": [
       "['Tim Detikcom',\n",
       " 'Https',\n",
       " 'Www.Facebook.Com Detikcom',\n",
       " 'Tim Detikcom - Detiknews']"
      ]
     },
     "execution_count": 18,
     "metadata": {},
     "output_type": "execute_result"
    }
   ],
   "source": [
    "penulis_berita"
   ]
  },
  {
   "cell_type": "markdown",
   "metadata": {
    "id": "HbXT81A-pDzc"
   },
   "source": [
    "# Web Scrapping Multiple Pages News Article"
   ]
  },
  {
   "cell_type": "markdown",
   "metadata": {
    "id": "5IdG3klwpDzd"
   },
   "source": [
    "## Import Library"
   ]
  },
  {
   "cell_type": "code",
   "execution_count": null,
   "metadata": {
    "id": "1n8EwLLzpDze"
   },
   "outputs": [],
   "source": [
    "import newspaper\n",
    "import pandas as pd"
   ]
  },
  {
   "cell_type": "markdown",
   "metadata": {
    "id": "qT7gqu3hpDzg"
   },
   "source": [
    "## Membangun Newspaper dengan link berita yang diinginkan"
   ]
  },
  {
   "cell_type": "code",
   "execution_count": null,
   "metadata": {
    "id": "hvC77WrUpDzh"
   },
   "outputs": [],
   "source": [
    "detik_paper = newspaper.build('http://news.detik.com')"
   ]
  },
  {
   "cell_type": "code",
   "execution_count": null,
   "metadata": {
    "id": "9oDZGU5npDzj"
   },
   "outputs": [],
   "source": [
    "# Looping list untuk mengekstraksi artikel di dalam newspaper\n",
    "url_list=[]\n",
    "for article in detik_paper.articles:\n",
    "    url_list.append(article.url)"
   ]
  },
  {
   "cell_type": "code",
   "execution_count": null,
   "metadata": {
    "id": "8sbAXfKOpDzl"
   },
   "outputs": [],
   "source": [
    "url_list=url_list[1:]"
   ]
  },
  {
   "cell_type": "code",
   "execution_count": null,
   "metadata": {
    "id": "0pyt7Z9rpDzm",
    "outputId": "747048cb-1be4-48db-b6ea-23926fefa46c"
   },
   "outputs": [
    {
     "data": {
      "text/plain": [
       "['https://finance.detik.com/energi/d-5889249/erick-thohir-beberkan-kesalahan-besar-di-balik-krisis-batu-bara-ri',\n",
       " 'https://finance.detik.com/energi/d-5888967/daftar-bos-batu-bara-yang-ekspornya-disetop-jokowi',\n",
       " 'https://finance.detik.com/properti/d-5889233/terkuak-ini-hasil-pertemuan-jokowi-dengan-desainer-istana-ibu-kota-baru',\n",
       " 'https://finance.detik.com/energi/d-5888911/bikin-jokowi-geram-2078-izin-usaha-pertambangan-dicabut-senin',\n",
       " 'https://finance.detik.com/berita-ekonomi-bisnis/d-5889856/tekan-harga-anak-usaha-ptpn-produksi-minyak-goreng-rp-14000liter?tag_from=wp_hl_img',\n",
       " 'https://finance.detik.com/berita-ekonomi-bisnis/d-5889856/tekan-harga-anak-usaha-ptpn-produksi-minyak-goreng-rp-14000liter?tag_from=wp_hl_judul',\n",
       " 'https://finance.detik.com/berita-ekonomi-bisnis/d-5888091/kenapa-harga-minyak-goreng-mahal-ini-jawabannya?tag_from=wp_hl_terkait',\n",
       " 'https://finance.detik.com/berita-ekonomi-bisnis/d-5887608/selain-minta-dmo-cpo-andre-rosiade-usul-naikkan-pajak-ekspor-minyak-goreng?tag_from=wp_hl_terkait',\n",
       " 'https://news.detik.com/berita/d-5888998/6-hal-soal-naufal-samudra-ditangkap-gegara-narkoba-kali-kedua',\n",
       " 'https://news.detik.com/berita/d-5889031/teka-teki-wanita-tewas-di-hotel-tangerang-dan-motornya-yang-hilang',\n",
       " 'https://news.detik.com/berita/d-5889026/6-fakta-ngeri-pemotor-terlempar-usai-tabrakan-di-layang-pesing-jakbar',\n",
       " 'https://news.detik.com/berita/d-5889021/ucapan-gus-dur-disandingkan-cuitan-ferdinand-hutahaean-tuai-kritikan',\n",
       " 'https://news.detik.com/berita/d-5888591/artis-naufal-samudra-kembali-ditangkap-kasus-narkoba',\n",
       " 'https://news.detik.com/berita/d-5889886/napi-kasus-pencurian-kabur-dari-polsek-soreang-parepare?tag_from=wp_hl_img',\n",
       " 'https://news.detik.com/berita/d-5889886/napi-kasus-pencurian-kabur-dari-polsek-soreang-parepare?tag_from=wp_hl_judul',\n",
       " 'https://news.detik.com/berita/d-5889621/gempa-m-51-guncang-halmahera-utara-dirasakan-di-sejumlah-daerah?tag_from=wp_hl_terkait',\n",
       " 'https://news.detik.com/berita/d-5889497/joki-vaksin-covid-19-kembali-diciduk-kali-ini-di-banjarmasin?tag_from=wp_hl_terkait',\n",
       " 'https://news.detik.com/berita/d-5889791/heboh-tipu-tipu-beli-siomai-hingga-rp-42-juta-di-jakarta-utara?tag_from=news_mostpop',\n",
       " 'https://news.detik.com/berita/d-5889874/3-fakta-mahasiswi-tewas-akibat-mobil-hindari-lubang-di-tol-palembang?tag_from=news_mostpop',\n",
       " 'https://news.detik.com/berita/d-5889844/anak-sebut-ott-rahmat-effendi-pembunuhan-karakter-kpk-buka-suara?tag_from=news_mostpop',\n",
       " 'https://news.detik.com/berita/d-5889852/kritik-mengemuka-saat-eks-tim-mawar-jadi-pangdam-jaya?tag_from=news_mostpop',\n",
       " 'https://20.detik.com/detikflash/20220108-220108082/begini-penampakan-kuburan-pesawat-di-lahan-kosong-bogor',\n",
       " 'https://20.detik.com/detikflash/20220108-220108089/komisi-ix-dpr-bentuk-panja-agar-nakes-honorer-jadi-pegawai-pemerintah',\n",
       " 'https://20.detik.com/detikflash/20220108-220108088/anak-rahmat-effendi-tak-terima-ayahnya-kena-ott-kpk',\n",
       " 'https://20.detik.com/detikflash/20220108-220108087/ketua-dpd-golkar-bekasi-bicara-ott-pepen-kuning-sedang-diincar',\n",
       " 'https://20.detik.com/detikflash/20220108-220108084/update-corona-ri-8-januari-2022-bertambah-479-kasus-175-sembuh',\n",
       " 'https://20.detik.com/e-flash/20220108-220108086/jelang-ptm-100-persen-ciamis-gelar-vaksinasi-untuk-anak-6-11-tahun',\n",
       " 'https://20.detik.com/e-flash/20220108-220108085/aespa-raih-artist-of-the-year-di-golden-disc-awards-2022',\n",
       " 'https://20.detik.com/e-flash/20220108-220108081/kisah-fransiska-rela-donorkan-ginjal-untuk-alasan-kemanusiaan',\n",
       " 'https://20.detik.com/e-flash/20220108-220108079/mudahkan-pelayanan-publik-pemkot-bandung-tambah-mpp-di-pusat-kota',\n",
       " 'https://20.detik.com/sport-buzz/20220107-220107123/asnawi-mangkualam-diperpanjang-klub-ansan-greeners',\n",
       " 'https://20.detik.com/sport-buzz/20220107-220107108/philippe-coutinho-kembali-ke-liga-inggris',\n",
       " 'https://20.detik.com/sport-buzz/20220107-220107044/juventus-vs-napoli-berakhir-imbang-1-1',\n",
       " 'https://20.detik.com/sport-buzz/20220107-220107040/gasak-roma-milan-tempel-ketat-inter',\n",
       " 'https://20.detik.com/otobuzz/20220108-220108083/canggih-mobil-listrik-bmw-ini-bisa-berubah-warna-dalam-sekejap',\n",
       " 'https://20.detik.com/otobuzz/20220108-220108042/belum-ada-kenaikan-ini-harga-motor-matic-honda-per-januari-2022',\n",
       " 'https://20.detik.com/otobuzz/20220107-220107110/ini-tempat-beli-daftar-harga-tiket-motogp-mandalika-2022-',\n",
       " 'https://20.detik.com/otobuzz/20220107-220107089/mercedes-benz-e-300-amg-line-mobilnya-sultan-muda-yang-bisa-parkir-sendiri',\n",
       " 'https://event.detik.com/galeri/99-hadirkan-jang-hansol-hingga-gita-savitri-ini-dia-potret-dyouthizen-virtual-class-november',\n",
       " 'https://event.detik.com/galeri/87-serunya-belajar-bareng-di-dyouthizen-virtual-class-hari-ke-2',\n",
       " 'https://event.detik.com/galeri/13-berpesta-bersama-nidji-di-dhot-music',\n",
       " 'https://wolipop.detik.com/entertainment-news/d-5889772/most-pop-klarifikasi-lola-diara-dituduh-jadi-pelakor-di-kisah-layangan-putus',\n",
       " 'https://wolipop.detik.com/tarot-expert/d-5889756/hubungan-cuma-ttm-tapi-berharap-lebih-bisakah-jadi-pacar',\n",
       " 'https://wolipop.detik.com/entertainment-news/d-5889771/8-drama-korea-khusus-dewasa-terpopuler-yang-dihiasi-adegan-panas',\n",
       " 'https://wolipop.detik.com/entertainment-news/d-5889706/viral-aktor-korea-song-kang-pakai-kemeja-tenun-ri-ini-kisah-di-baliknya',\n",
       " 'https://wolipop.detik.com/entertainment-news/d-5889627/drakor-tracer-saingi-rating-now-we-are-breaking-up-ini-sinopsisnya',\n",
       " 'https://wolipop.detik.com/foto-wedding/d-5889596/10-foto-pernikahan-viral-mantan-murid-dan-guru-cinta-berawal-dari-reuni',\n",
       " 'https://wolipop.detik.com/entertainment-news/d-5889545/sinopsis-in-the-heart-of-the-sea-dibintangi-chris-hemsworth-dan-tom-holland',\n",
       " 'https://wolipop.detik.com/makeup-and-skincare/d-5889544/idol-kpop-ungkap-lip-tint-warna-natural-andalannya-produknya-sering-sold-out',\n",
       " 'https://wolipop.detik.com/entertainment-news/d-5889473/choi-tae-joon--park-shin-hye-segera-menikah-undangan-diekspos-teman-sendiri',\n",
       " 'https://wolipop.detik.com/home/d-5889441/ingin-punya-rumah-instagramable-dan-rapi-ini-4-rahasianya',\n",
       " 'https://wolipop.detik.com/foto-entertainment/d-5889426/pesona-song-hye-kyo-setelah-potong-rambut-bikin-pangling-makin-awet-muda',\n",
       " 'https://wolipop.detik.com/hijab-update/d-5889399/bacaan-doa-menjelang-persalinan-agar-dilancarkan-dan-redakan-sakit',\n",
       " 'https://wolipop.detik.com/love/d-5889331/ramalan-zodiak-cinta-8-januari-gemini-hatinya-sakit-virgo-jaga-perasaannya',\n",
       " 'https://wolipop.detik.com/fashion-news/d-5889303/zendaya-hidupkan-gaun-valentino-koleksi-1992-rayakan-linda-evangelista',\n",
       " 'https://wolipop.detik.com/love/d-5889234/ramalan-zodiak-8-januari-libra-problem-mulai-muncul-virgo-lakukan-terobosan',\n",
       " 'https://wolipop.detik.com/entertainment-news/d-5889230/jisoo-hingga-jung-hae-in-kenang-pemain-snowdrop-kim-mi-soo-yang-meninggal',\n",
       " 'https://wolipop.detik.com/detiktv/d-5889199/kutips-diy-outer-scarf-bikin-outfit-makin-kece',\n",
       " 'https://wolipop.detik.com/love/d-5889186/25-ucapan-ulang-tahun-untuk-pacar-singkat-tapi-emosional-super-romantis',\n",
       " 'https://wolipop.detik.com/entertainment-news/d-5888526/sosialita-curhat-ditinggal-suami-tak-diberi-nafkah-hingga-utang-sewa-rumah',\n",
       " 'https://wolipop.detik.com/love/d-5889111/ramalan-zodiak-8-januari-pisces-pemasukan-tinggi-leo-ada-saja-pengeluaran',\n",
       " 'https://wolipop.detik.com/foto-entertainment/d-5889776/gaya-8-artis-indonesia-liburan-tahun-baru-di-luar-negeri-ke-turki-hingga-as',\n",
       " 'https://hot.detik.com/movie/d-5889327/sidney-poitier-aktor-kulit-hitam-pertama-yang-raih-oscar-meninggal-dunia',\n",
       " 'https://hot.detik.com/celeb/d-5889282/begini-kondisi-dorce-sekarang-usai-terlihat-lebih-kurus',\n",
       " 'https://hot.detik.com/celeb/d-5889437/polisi-soal-naufal-samudra-ditangkap-ada-banyak-orang-selain-dinda-kirana',\n",
       " 'https://hot.detik.com/celeb/d-5889276/ivan-gunawan-hibahkan-anak-bagaimana-nasib-babysitternya',\n",
       " 'https://hot.detik.com/celeb/d-5889487/gisel-mas-gading-selalu-ada-dalam-doaku',\n",
       " 'https://hot.detik.com/celeb/d-5889674/kontroversi-bayi-ivan-gunawan-berakhir-dengan-hibah',\n",
       " 'https://hot.detik.com/celeb/d-5889204/usai-anak-dihibahkan-karena-bikin-onar-ivan-gunawan-lakukan-ini',\n",
       " 'https://hot.detik.com/celeb/d-5889743/ini-dia-wajah-anak-lesti-kejora-dan-rizky-billar',\n",
       " 'https://hot.detik.com/celeb/d-5889837/muhammad-leslar-al-fatih-billar-nama-anak-rizky-billar-lesti-kejora',\n",
       " 'https://hot.detik.com/celeb/d-5889799/5-potret-wajah-anak-lesti-kejora-dan-rizky-billar',\n",
       " 'https://hot.detik.com/celeb/d-5889774/semangat-dorce-gamalama-sembuh-dari-penyakitnya',\n",
       " 'https://health.detik.com/true-story/d-5889809/geger-pria-disuntik-11-dosis-vaksin-covid-19-mengaku-badan-jadi-lebih-sehat',\n",
       " 'https://health.detik.com/berita-detikhealth/d-5889797/nggak-perlu-bete-lagi-ini-8-cara-mengatasi-rambut-kering-secara-alami',\n",
       " 'https://health.detik.com/berita-detikhealth/d-5889811/ada-318-kasus-omicron-di-ri-23-di-antaranya-transmisi-lokal',\n",
       " 'https://health.detik.com/berita-detikhealth/d-5889789/pasien-omicron-ri-bertambah-57-mayoritas-vaksin-lengkap-gejala-ringan',\n",
       " 'https://health.detik.com/asah-otak/d-5889764/buktikan-otak-kamu-beneran-encer-lewat-tebak-tebakan-ini-yakin-bisa-jawab-semua',\n",
       " 'https://health.detik.com/berita-detikhealth/d-5889747/total-jadi-318-kasus-turki-dan-arab-saudi-penyumbang-terbanyak-omicron-ri',\n",
       " 'https://health.detik.com/sexual-health/d-5889720/bikin-tahan-lama-di-ranjang-berapa-lama-efek-kebas-tisu-magic',\n",
       " 'https://health.detik.com/berita-detikhealth/d-5889690/beda-dengan-kemenkes-gisaid-sebut-kasus-omicron-ri-sudah-337',\n",
       " 'https://health.detik.com/detiktv/d-5889689/kisah-fransiska-rela-donorkan-ginjal-untuk-alasan-kemanusiaan',\n",
       " 'https://health.detik.com/berita-detikhealth/d-5889654/dki-tertinggi-ini-sebaran-479-kasus-baru-covid-19-ri-8-januari-2022',\n",
       " 'https://health.detik.com/berita-detikhealth/d-5889643/update-corona-ri-8-januari-479-kasus-baru-175-sembuh-6-meninggal',\n",
       " 'https://health.detik.com/berita-detikhealth/d-5889625/ri-catat-318-kasus-omicron-ini-gejala-yang-banyak-dilaporkan',\n",
       " 'https://health.detik.com/fotohealth/d-5888883/takut-sama-boneka-arwah-ini-namanya-pediophobia',\n",
       " 'https://health.detik.com/detiktv/d-5889619/awal-mula-fransiska-mantap-donorkan-ginjal-untuk-pasien',\n",
       " 'https://health.detik.com/berita-detikhealth/d-5889613/tambah-lagi-kasus-omicron-di-ri-jadi-318-orang-terbanyak-tertular-dari-turki',\n",
       " 'https://health.detik.com/berita-detikhealth/d-5889574/gejala-omicron-dan-flu-biasa-mirip-dokter-ungkap-perbedaan-paling-mencolok',\n",
       " 'https://health.detik.com/berita-detikhealth/d-5889541/cegah-omicron-pejabat-dki-dilarang-ke-luar-negeri',\n",
       " 'https://health.detik.com/diet/d-5889502/potret-leonardo-dicaprio-membuncit-bikin-shock-demi-film-terbarunya',\n",
       " 'https://health.detik.com/berita-detikhealth/d-5889442/eks-petinggi-who-sorot-super-immunity-covid-19-ri',\n",
       " 'https://health.detik.com/berita-detikhealth/d-5889412/tak-perlu-mahal-ini-cara-menghilangkan-ruam-kulit-secara-alami',\n",
       " 'https://health.detik.com/berita-detikhealth/d-5889381/afsel-bawa-kabar-baik-soal-varian-omicron-mari-merapat',\n",
       " 'https://food.detik.com/foto-kuliner/d-5889693/potret-natya-shina-saat-makan-mie-korea-dan-minum-kopi',\n",
       " 'https://food.detik.com/resep-pembaca/d-5886419/resep-pembaca-resep-rendang-daging-bumbu-putih-yang-gurih-mantap',\n",
       " 'https://food.detik.com/resep-pembaca/d-5885136/resep-pembaca-resep-kicik-daging-sapi-yang-manis-gurih-bumbunya',\n",
       " 'https://food.detik.com/resep-pembaca/d-5883579/resep-pembaca-sop-senerek-khas-magelang-yang-lezat-padat-isiannya',\n",
       " 'https://food.detik.com/foto-kuliner/d-5889575/romantisnya-dinda-kirana-dan-naufal-samudra-saat-makan-di-restoran',\n",
       " 'https://food.detik.com/info-kuliner/d-5889378/hati-hati-beracun-hindari-konsumsi-semangka-dengan-5-ciri-ini',\n",
       " 'https://food.detik.com/info-kuliner/d-5889020/berlapis-emas-camilan-khas-india-ini-harganya-rp-3-jutaan',\n",
       " 'https://food.detik.com/info-kuliner/d-5889012/pepsi-bening-kembali-diproduksi-setelah-30-tahun-menghilang-dari-pasaran',\n",
       " 'https://food.detik.com/video/220108062/gurih-kenyal-ini-deppa-tori-camilan-khas-mamasa-sulbar',\n",
       " 'https://food.detik.com/video/220108056/gerai-vegetarian-di-senopati-ini-tawarkan-citarasa-resto-siap-saji',\n",
       " 'https://food.detik.com/video/220107139/bikin-laper-review-nasi-kapau-masakan-padang-di-tangerang',\n",
       " 'https://food.detik.com/video/220107138/bikin-laper-paket-lengkap-rawon-tulang-sumsum-yang-nikmat',\n",
       " 'https://food.detik.com/info-kuliner/d-5889478/banyak-kuliner-murah-ini-4-tempat-makan-di-sekitar-unpar-yang-hits',\n",
       " 'https://food.detik.com/info-kuliner/d-5888628/5-sate-babi-yang-empuk-enak-di-tebet-ini-patut-dicoba',\n",
       " 'https://food.detik.com/info-kuliner/d-5889367/5-kafe-hits-di-gading-serpong-ini-bisa-jadi-spot-foto-instagramable',\n",
       " 'https://food.detik.com/foto-kuliner/d-5889383/beli-makan-secara-terpisah-netizen-ini-justru-repotkan-diri-sendiri',\n",
       " 'https://food.detik.com/berita-boga/d-5889288/nikmat-dan-sehat-chicken-wings-plant-based-dan-es-kopi-susu-vegan-buatan-eath',\n",
       " 'https://food.detik.com/rumah-makan/d-5889308/nasi-balap-puyung-inaq-esun-juaranya-nasi-balap-di-lombok-sejak-1970',\n",
       " 'https://food.detik.com/info-sehat/d-5888999/agar-diet-berhasil-perhatikan-jam-makan-yang-tepat',\n",
       " 'https://inet.detik.com/consumer/d-5889549/awas-50-hp-ini-bakal-diblokir-whatsapp-di-2022',\n",
       " 'https://inet.detik.com/tips-dan-trik/d-5889185/5-cara-download-video-tiktok-tanpa-watermark-di-2022',\n",
       " 'https://inet.detik.com/fotoinet/d-5889047/potret-makhluk-dasar-laut-yang-mencengangkan-dan-bikin-begidik',\n",
       " 'https://inet.detik.com/cyberlife/d-5888630/ketahuan-google-maps-mafia-italia-buron-20-tahun-ditangkap',\n",
       " 'https://inet.detik.com/cyberlife/d-5888159/ferdinand-hutahaean-mengaku-mualaf-netizen-kaget',\n",
       " 'https://inet.detik.com/cyberlife/d-5889825/bitcoin-tinggal-tersisa-10-apa-jadinya-kalau-habis',\n",
       " 'https://inet.detik.com/cyberlife/d-5887238/pemuda-drop-out-ini-raup-rp-18-miliar-per-bulan-dari-bitcoin',\n",
       " 'https://inet.detik.com/cyberlife/d-5883752/reino-barack-tak-percaya-bitcoin-tapi-mau-seriusi-metaverse',\n",
       " 'https://inet.detik.com/consumer/d-5889806/ini-awal-keruntuhan-blackberry-menurut-petingginya',\n",
       " 'https://inet.detik.com/cyberlife/d-5889748/elon-musk-bagikan-video-jadul-1995-bill-gates-diledek-soal-internet',\n",
       " 'https://inet.detik.com/science/d-5889796/who-omicron-tidak-bisa-dikategorikan-ringan',\n",
       " 'https://inet.detik.com/telecommunication/d-5889762/5g-baru-mulai-china-klaim-buat-terobosan-teknologi-6g',\n",
       " 'https://oto.detik.com/berita/d-5889177/ini-daftar-area-pelat-nomor-kendaraan-di-seluruh-wilayah-indonesia',\n",
       " 'https://oto.detik.com/berita/d-5888065/mobil-listrik-wisata-tetap-beroperasi-gibran-siap-tanggung-jawab',\n",
       " 'https://oto.detik.com/berita/d-5886522/presiden-jokowi-ngalah-sama-ambulans-pengendara-pakai-rotator-ilegal-harusnya-malu',\n",
       " 'https://oto.detik.com/berita/d-5889739/pemerintah-malaysia-beri-voucher-servis-mobil-bagi-warga-yang-terdampak-banjir',\n",
       " 'https://travel.detik.com/fototravel/d-5889715/sambut-awal-tahun-warga-tanah-datar-gelar-latihan-pacu-jawi',\n",
       " 'https://travel.detik.com/fototravel/d-5889683/warna-warni-sensasi-dufan-di-malam-hari',\n",
       " 'https://finance.detik.com/foto-bisnis/d-5889507/10-rumah-paling-sultan-di-dunia-ini-harganya-selangit',\n",
       " 'https://news.detik.com/foto-news/d-5889333/419-jemaah-umrah-terbang-ke-tanah-suci-hari-ini',\n",
       " 'https://inet.detik.com/fotoinet/d-5889722/mencengangkan-fotografer-ini-umbar-rahasia-sederhana-bikin-foto-kece',\n",
       " 'https://travel.detik.com/fototravel/d-5889833/ini-dia-wisata-terfavorit-di-pekalongan',\n",
       " 'https://travel.detik.com/fototravel/d-5889630/suasana-penerbangan-umrah-pertama-di-2022-dari-lion-air',\n",
       " 'https://finance.detik.com/foto-bisnis/d-5889740/asyik-lampung-lagi-musim-durian-lho',\n",
       " 'https://travel.detik.com/fototravel/d-5889749/momen-pelepasliaran-penyu-hijau-di-pantai-kuta',\n",
       " 'https://finance.detik.com/foto-bisnis/d-5889708/terbongkar-61-calon-tki-ilegal-mau-diboyong-ke-australia',\n",
       " 'https://inet.detik.com/fotoinet/d-5889258/15-hp-blackberry-terpopuler-di-indonesia-pernah-pakai-yang-mana',\n",
       " 'https://travel.detik.com/fototravel/d-5889014/satu-lagi-potensi-wisata-di-bantul-penasaran',\n",
       " 'https://sport.detik.com/sepakbola/foto-sepakbola/d-5888994/begini-kerennya-revitalisasi-stadion-benteng-reborn',\n",
       " 'https://news.detik.com/foto-news/d-5888981/potret-gunung-semeru-muntahkan-lava-pijar',\n",
       " 'https://news.detik.com/foto-news/d-5888377/di-bawah-rintik-salju-kota-tokyo',\n",
       " 'https://news.detik.com/foto-news/d-5887955/menyusuri-jalan-kalimalang-tambun-yang-rusak-dan-bergelombang',\n",
       " 'https://sport.detik.com/raket/d-5888085/christian-hadinata-beri-praveen-melati-kesempatan-untuk-perbaiki',\n",
       " 'https://sport.detik.com/moto-gp/d-5887615/tiket-motogp-mandalika-seharga-15-juta-ludes-terjual',\n",
       " 'https://sport.detik.com/raket/d-5886082/viral-praveen-melati-dan-gloria-dicoret-dari-pelatnas-ini-faktanya',\n",
       " 'https://sport.detik.com/raket/d-5887086/praveen-melati-dicoret-dari-pelatnas-skill-nya-dinilai-masih-oke',\n",
       " 'https://sport.detik.com/raket/d-5886847/pb-djarum-akui-prestasi-praveen-melati-dan-gloria-menurun',\n",
       " 'https://sport.detik.com/sport-lain/d-5889646/proliga-2022-menang-telak-jakarta-pertamina-belum-puas?tag_from=wp_hl_img',\n",
       " 'https://sport.detik.com/sport-lain/d-5889646/proliga-2022-menang-telak-jakarta-pertamina-belum-puas?tag_from=wp_hl_judul',\n",
       " 'https://sport.detik.com/sport-lain/d-5888718/jakarta-popsivo-menang-di-laga-perdana-proliga-2022?tag_from=wp_hl_terkait',\n",
       " 'https://sport.detik.com/sport-lain/d-5885939/proliga-2022-target-tinggi-jakarta-elektrik-pln-rekrut-pemain-azerbaijan?tag_from=wp_hl_terkait',\n",
       " 'https://sport.detik.com/sport-lain/d-5889646/proliga-2022-menang-telak-jakarta-pertamina-belum-puas',\n",
       " 'https://sport.detik.com/raket/d-5889656/ajukan-banding-ini-alasan-djokovic-minta-izin-khusus-di-australia-terbuka',\n",
       " 'https://sport.detik.com/raket/d-5889357/respons-richard-mainaky-soal-kabar-preveenmelati-dicoret-pelatnas',\n",
       " 'https://sport.detik.com/raket/d-5889291/pbsi-bakal-kirim-tim-terkuat-di-sea-games-2022',\n",
       " 'http://inet.detik.com/consumer/d-5889806/ini-awal-keruntuhan-blackberry-menurut-petingginya',\n",
       " 'http://inet.detik.com/cyberlife/d-5889748/elon-musk-bagikan-video-jadul-1995-bill-gates-diledek-soal-internet',\n",
       " 'http://news.detik.com/berita/d-5889791/heboh-tipu-tipu-beli-siomai-hingga-rp-42-juta-di-jakarta-utara',\n",
       " 'http://inet.detik.com/science/d-5889796/who-omicron-tidak-bisa-dikategorikan-ringan',\n",
       " 'http://news.detik.com/berita/d-5889844/anak-sebut-ott-rahmat-effendi-pembunuhan-karakter-kpk-buka-suara',\n",
       " 'http://travel.detik.com/travel-news/d-5889790/5-hotel-di-bali-termasuk-terindah-di-asia',\n",
       " 'http://wolipop.detik.com/entertainment-news/d-5889771/8-drama-korea-khusus-dewasa-terpopuler-yang-dihiasi-adegan-panas',\n",
       " 'http://food.detik.com/foto-kuliner/d-5889575/romantisnya-dinda-kirana-dan-naufal-samudra-saat-makan-di-restoran',\n",
       " 'http://wolipop.detik.com/foto-entertainment/d-5889776/gaya-8-artis-indonesia-liburan-tahun-baru-di-luar-negeri-ke-turki-hingga-as',\n",
       " 'http://finance.detik.com/berita-ekonomi-bisnis/d-5872211/ada-modal-rp-10-juta-nih-dari-detikcom-buat-suami-daftar-di-sini',\n",
       " 'http://news.detik.com/berita/d-5885223/giring-psi-kejeblos-saat-sidak-lokasi-formula-e-di-ancol',\n",
       " 'http://news.detik.com/berita/d-5882923/bahar-smith-jadi-tersangka-kasus-berita-bohong-pengacara-innalillahi',\n",
       " 'http://news.detik.com/berita/d-5887992/di-tengah-penyidikan-allahmu-lemah-ferdinand-hutahaean-ngaku-mualaf',\n",
       " 'https://news.detik.com/berita/d-5889844/anak-sebut-ott-rahmat-effendi-pembunuhan-karakter-kpk-buka-suara?tag_from=wp_beritautama',\n",
       " 'https://travel.detik.com/travel-news/d-5889790/5-hotel-di-bali-termasuk-terindah-di-asia?tag_from=wp_beritautama',\n",
       " 'https://news.detik.com/berita/d-5889791/heboh-tipu-tipu-beli-siomai-hingga-rp-42-juta-di-jakarta-utara?tag_from=wp_beritautama',\n",
       " 'https://finance.detik.com/berita-ekonomi-bisnis/d-5889645/gawat-omicron-mulai-ancam-pengiriman-barang?tag_from=wp_beritautama',\n",
       " 'https://news.detik.com/berita/d-5889814/haru-jemaah-bisa-umroh-lagi-usai-2-tahun-terhalang-pandemi?tag_from=wp_beritautama',\n",
       " 'https://20.detik.com/detikflash/20220108-220108088/anak-rahmat-effendi-tak-terima-ayahnya-kena-ott-kpk?tag_from=wp_belt_videoTerpopuler',\n",
       " 'https://20.detik.com/detikflash/20220108-220108082/begini-penampakan-kuburan-pesawat-di-lahan-kosong-bogor?tag_from=wp_belt_videoTerpopuler',\n",
       " 'https://20.detik.com/detikflash/20220108-220108084/update-corona-ri-8-januari-2022-bertambah-479-kasus-175-sembuh?tag_from=wp_belt_videoTerpopuler',\n",
       " 'https://news.detik.com/berita/d-5889081/gerakan-sumsel-mandiri-pangan-upaya-wujudkan-visi-ketahanan-pangan-nasional',\n",
       " 'https://finance.detik.com/berita-ekonomi-bisnis/d-5872211/ada-modal-rp-10-juta-nih-dari-detikcom-buat-suami-daftar-di-sini?tag_from=wp_cb_detikcom_kadokeluarga',\n",
       " 'https://finance.detik.com/berita-ekonomi-bisnis/d-5872211/ada-modal-rp-10-juta-nih-dari-detikcom-buat-suami-daftar-di-sini',\n",
       " 'https://news.detik.com/berita/d-5889791/heboh-tipu-tipu-beli-siomai-hingga-rp-42-juta-di-jakarta-utara?tag_from=wp_cb_mostPopular_list',\n",
       " 'https://news.detik.com/berita/d-5889874/3-fakta-mahasiswi-tewas-akibat-mobil-hindari-lubang-di-tol-palembang?tag_from=wp_cb_mostPopular_list',\n",
       " 'https://news.detik.com/berita/d-5889844/anak-sebut-ott-rahmat-effendi-pembunuhan-karakter-kpk-buka-suara?tag_from=wp_cb_mostPopular_list',\n",
       " 'https://news.detik.com/berita/d-5889852/kritik-mengemuka-saat-eks-tim-mawar-jadi-pangdam-jaya?tag_from=wp_cb_mostPopular_list',\n",
       " 'https://travel.detik.com/indeksfokus/6208/anggun-sembalun-di-kaki-gunung-rinjani',\n",
       " 'https://travel.detik.com/travel-news/d-5889790/5-hotel-di-bali-termasuk-terindah-di-asia',\n",
       " 'https://travel.detik.com/travel-news/d-5889794/20-maskapai-paling-aman-untuk-tahun-2022',\n",
       " 'https://travel.detik.com/travel-news/d-5889682/semena-mena-kelompok-influencer-gaduh-ditolak-terbang-lalu-terdampar',\n",
       " 'https://travel.detik.com/travel-news/d-5889668/10-penumpang-pesawat-ini-kabur-karena-positif-covid',\n",
       " 'https://travel.detik.com/cerita-perjalanan/d-5889443/kape-kapi-purworejo-spot-asyik-ngopi-di-tepi-sungai']"
      ]
     },
     "execution_count": 23,
     "metadata": {},
     "output_type": "execute_result"
    }
   ],
   "source": [
    "url_list"
   ]
  },
  {
   "cell_type": "markdown",
   "metadata": {
    "id": "W12j_lZQpDzn"
   },
   "source": [
    "## Membuat Fungsi Scrapping Multi Artikel Berita"
   ]
  },
  {
   "cell_type": "code",
   "execution_count": null,
   "metadata": {
    "id": "I-tbdILIpDzp"
   },
   "outputs": [],
   "source": [
    "def scrapping_multiple_news_article(url_list):\n",
    "    judul=[]\n",
    "    tanggal=[]\n",
    "    penulis=[]\n",
    "    isi=[]\n",
    "    link_lengkap=[]\n",
    "    for url in url_list:\n",
    "        judul_berita, tanggal_berita, penulis_berita, isi_berita, link_lengkap_berita = scrapping_news_article(url)\n",
    "        judul.append(judul_berita)\n",
    "        tanggal.append(tanggal_berita)\n",
    "        penulis.append(penulis_berita)\n",
    "        isi.append(isi_berita)\n",
    "        link_lengkap.append(link_lengkap_berita)\n",
    "    dataframe=pd.DataFrame({\"Judul\":judul,\n",
    "                           \"Tanggal\":tanggal,\n",
    "                           \"Penulis\":penulis,\n",
    "                           \"Isi\":isi,\n",
    "                           \"Link Lengkap\":link_lengkap})\n",
    "    return dataframe"
   ]
  },
  {
   "cell_type": "markdown",
   "metadata": {
    "id": "cMFoz4FEpDzr"
   },
   "source": [
    "## Menyimpan Data Hasil Scrapping dalam Pandas Dataframe"
   ]
  },
  {
   "cell_type": "code",
   "execution_count": null,
   "metadata": {
    "id": "QsvHF0TQpDzs",
    "outputId": "5296f737-621b-44c2-85b0-2ab840d5f18e"
   },
   "outputs": [
    {
     "data": {
      "text/html": [
       "<div>\n",
       "<style scoped>\n",
       "    .dataframe tbody tr th:only-of-type {\n",
       "        vertical-align: middle;\n",
       "    }\n",
       "\n",
       "    .dataframe tbody tr th {\n",
       "        vertical-align: top;\n",
       "    }\n",
       "\n",
       "    .dataframe thead th {\n",
       "        text-align: right;\n",
       "    }\n",
       "</style>\n",
       "<table border=\"1\" class=\"dataframe\">\n",
       "  <thead>\n",
       "    <tr style=\"text-align: right;\">\n",
       "      <th></th>\n",
       "      <th>Judul</th>\n",
       "      <th>Tanggal</th>\n",
       "      <th>Penulis</th>\n",
       "      <th>Isi</th>\n",
       "      <th>Link Lengkap</th>\n",
       "    </tr>\n",
       "  </thead>\n",
       "  <tbody>\n",
       "    <tr>\n",
       "      <th>0</th>\n",
       "      <td>Erick Thohir Beberkan Kesalahan Besar di Balik...</td>\n",
       "      <td>2022-01-08 15:15:26</td>\n",
       "      <td>[Sylke Febrina Laucereno, Https, Www.Facebook....</td>\n",
       "      <td>Indonesia saat ini sedang dilanda krisis batu ...</td>\n",
       "      <td>https://finance.detik.com/energi/d-5889249/eri...</td>\n",
       "    </tr>\n",
       "    <tr>\n",
       "      <th>1</th>\n",
       "      <td>Daftar Bos Batu Bara yang Ekspornya Disetop Jo...</td>\n",
       "      <td>2022-01-08 12:45:45</td>\n",
       "      <td>[Achmad Dwi Afriyadi, Https, Www.Facebook.Com ...</td>\n",
       "      <td>Ekspor batu bara disetop sementara oleh pemeri...</td>\n",
       "      <td>https://finance.detik.com/energi/d-5888967/daf...</td>\n",
       "    </tr>\n",
       "    <tr>\n",
       "      <th>2</th>\n",
       "      <td>Terkuak! Ini Hasil Pertemuan Jokowi dengan Des...</td>\n",
       "      <td>2022-01-08 12:06:56</td>\n",
       "      <td>[Danang Sugianto, Https, Www.Facebook.Com Deti...</td>\n",
       "      <td>Nyoman Nuarta desainer Istana Garuda, Istana P...</td>\n",
       "      <td>https://finance.detik.com/properti/d-5889233/t...</td>\n",
       "    </tr>\n",
       "    <tr>\n",
       "      <th>3</th>\n",
       "      <td>Bikin Jokowi Geram, 2.078 Izin Usaha Pertamban...</td>\n",
       "      <td>2022-01-08 07:30:30</td>\n",
       "      <td>[Aulia Damayanti, Https, Www.Facebook.Com Deti...</td>\n",
       "      <td>Pemerintah bakal mengeksekusi pencabutan 2.078...</td>\n",
       "      <td>https://finance.detik.com/energi/d-5888911/bik...</td>\n",
       "    </tr>\n",
       "    <tr>\n",
       "      <th>4</th>\n",
       "      <td>Tekan Harga, Anak Usaha PTPN Produksi Minyak G...</td>\n",
       "      <td>2022-01-08 21:38:13</td>\n",
       "      <td>[Achmad Dwi Afriyadi, Https, Www.Facebook.Com ...</td>\n",
       "      <td>Menteri BUMN Erick Thohir meninjau operasi pas...</td>\n",
       "      <td>https://finance.detik.com/berita-ekonomi-bisni...</td>\n",
       "    </tr>\n",
       "  </tbody>\n",
       "</table>\n",
       "</div>"
      ],
      "text/plain": [
       "                                               Judul             Tanggal  \\\n",
       "0  Erick Thohir Beberkan Kesalahan Besar di Balik... 2022-01-08 15:15:26   \n",
       "1  Daftar Bos Batu Bara yang Ekspornya Disetop Jo... 2022-01-08 12:45:45   \n",
       "2  Terkuak! Ini Hasil Pertemuan Jokowi dengan Des... 2022-01-08 12:06:56   \n",
       "3  Bikin Jokowi Geram, 2.078 Izin Usaha Pertamban... 2022-01-08 07:30:30   \n",
       "4  Tekan Harga, Anak Usaha PTPN Produksi Minyak G... 2022-01-08 21:38:13   \n",
       "\n",
       "                                             Penulis  \\\n",
       "0  [Sylke Febrina Laucereno, Https, Www.Facebook....   \n",
       "1  [Achmad Dwi Afriyadi, Https, Www.Facebook.Com ...   \n",
       "2  [Danang Sugianto, Https, Www.Facebook.Com Deti...   \n",
       "3  [Aulia Damayanti, Https, Www.Facebook.Com Deti...   \n",
       "4  [Achmad Dwi Afriyadi, Https, Www.Facebook.Com ...   \n",
       "\n",
       "                                                 Isi  \\\n",
       "0  Indonesia saat ini sedang dilanda krisis batu ...   \n",
       "1  Ekspor batu bara disetop sementara oleh pemeri...   \n",
       "2  Nyoman Nuarta desainer Istana Garuda, Istana P...   \n",
       "3  Pemerintah bakal mengeksekusi pencabutan 2.078...   \n",
       "4  Menteri BUMN Erick Thohir meninjau operasi pas...   \n",
       "\n",
       "                                        Link Lengkap  \n",
       "0  https://finance.detik.com/energi/d-5889249/eri...  \n",
       "1  https://finance.detik.com/energi/d-5888967/daf...  \n",
       "2  https://finance.detik.com/properti/d-5889233/t...  \n",
       "3  https://finance.detik.com/energi/d-5888911/bik...  \n",
       "4  https://finance.detik.com/berita-ekonomi-bisni...  "
      ]
     },
     "execution_count": 28,
     "metadata": {},
     "output_type": "execute_result"
    }
   ],
   "source": [
    "Hasil_Scrapping=scrapping_multiple_news_article(url_list)\n",
    "Hasil_Scrapping.head()"
   ]
  },
  {
   "cell_type": "markdown",
   "metadata": {
    "id": "K_InIzgFpDzt"
   },
   "source": [
    "## Menyimpan Data Hasil Scrapping dalam file CSV"
   ]
  },
  {
   "cell_type": "code",
   "execution_count": null,
   "metadata": {
    "id": "qdChiTe_pDzu"
   },
   "outputs": [],
   "source": [
    "Hasil_Scrapping.to_csv('Scrapping_detik.csv', index=False)"
   ]
  }
 ],
 "metadata": {
  "colab": {
   "name": "3 Scrapping Data News Artikel dengan Newspaper3k.ipynb",
   "provenance": []
  },
  "kernelspec": {
   "display_name": "Python 3",
   "language": "python",
   "name": "python3"
  },
  "language_info": {
   "codemirror_mode": {
    "name": "ipython",
    "version": 3
   },
   "file_extension": ".py",
   "mimetype": "text/x-python",
   "name": "python",
   "nbconvert_exporter": "python",
   "pygments_lexer": "ipython3",
   "version": "3.8.5"
  }
 },
 "nbformat": 4,
 "nbformat_minor": 0
}
