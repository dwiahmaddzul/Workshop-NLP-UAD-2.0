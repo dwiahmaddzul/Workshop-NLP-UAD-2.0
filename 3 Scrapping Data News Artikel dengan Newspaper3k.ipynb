{
 "cells": [
  {
   "cell_type": "markdown",
   "metadata": {
    "id": "AgSsr642pDyH"
   },
   "source": [
    "# Scrapping Data News Artikel "
   ]
  },
  {
   "cell_type": "markdown",
   "metadata": {
    "id": "VkpsIL6hpDyX"
   },
   "source": [
    "Newspaper3k adalah package yang memudahkan kita untuk mengambil data artikel berita online. Package ini menyediakan function untuk mengekstraksi tidak hanya artikel utama dari sebuah berita, namun juga judul, penulis, dan tanggal artikel itu diterbitkan secara online. "
   ]
  },
  {
   "cell_type": "markdown",
   "metadata": {
    "id": "hWDcgh4xpDyb"
   },
   "source": [
    "## Intsalasi Package"
   ]
  },
  {
   "cell_type": "markdown",
   "metadata": {
    "id": "ojBsjvF-pDye"
   },
   "source": [
    "Menginstal `package` yang diperlukan yaitu `requests` untuk mengakses alamat url dan `newspaper3k` melakukan scrapping artikel berita."
   ]
  },
  {
   "cell_type": "code",
   "execution_count": 1,
   "metadata": {
    "id": "x365OYJUpDyh",
    "outputId": "bc579d2b-7e87-4e1d-ae0d-57d99f2593b2"
   },
   "outputs": [
    {
     "name": "stdout",
     "output_type": "stream",
     "text": [
      "Requirement already satisfied: requests in c:\\users\\dwiah\\anaconda3\\lib\\site-packages (2.24.0)\n",
      "Requirement already satisfied: idna<3,>=2.5 in c:\\users\\dwiah\\anaconda3\\lib\\site-packages (from requests) (2.10)\n",
      "Requirement already satisfied: chardet<4,>=3.0.2 in c:\\users\\dwiah\\anaconda3\\lib\\site-packages (from requests) (3.0.4)\n",
      "Requirement already satisfied: urllib3!=1.25.0,!=1.25.1,<1.26,>=1.21.1 in c:\\users\\dwiah\\anaconda3\\lib\\site-packages (from requests) (1.25.9)\n",
      "Requirement already satisfied: certifi>=2017.4.17 in c:\\users\\dwiah\\anaconda3\\lib\\site-packages (from requests) (2021.10.8)\n",
      "Requirement already satisfied: newspaper3k in c:\\users\\dwiah\\anaconda3\\lib\\site-packages (0.2.8)\n",
      "Requirement already satisfied: jieba3k>=0.35.1 in c:\\users\\dwiah\\anaconda3\\lib\\site-packages (from newspaper3k) (0.35.1)\n",
      "Requirement already satisfied: feedfinder2>=0.0.4 in c:\\users\\dwiah\\anaconda3\\lib\\site-packages (from newspaper3k) (0.0.4)\n",
      "Requirement already satisfied: feedparser>=5.2.1 in c:\\users\\dwiah\\anaconda3\\lib\\site-packages (from newspaper3k) (6.0.8)\n",
      "Requirement already satisfied: python-dateutil>=2.5.3 in c:\\users\\dwiah\\anaconda3\\lib\\site-packages (from newspaper3k) (2.8.1)\n",
      "Requirement already satisfied: tinysegmenter==0.3 in c:\\users\\dwiah\\anaconda3\\lib\\site-packages (from newspaper3k) (0.3)\n",
      "Requirement already satisfied: cssselect>=0.9.2 in c:\\users\\dwiah\\anaconda3\\lib\\site-packages (from newspaper3k) (1.1.0)\n",
      "Requirement already satisfied: requests>=2.10.0 in c:\\users\\dwiah\\anaconda3\\lib\\site-packages (from newspaper3k) (2.24.0)\n",
      "Requirement already satisfied: lxml>=3.6.0 in c:\\users\\dwiah\\anaconda3\\lib\\site-packages (from newspaper3k) (4.5.2)\n",
      "Requirement already satisfied: Pillow>=3.3.0 in c:\\users\\dwiah\\anaconda3\\lib\\site-packages (from newspaper3k) (7.2.0)\n",
      "Requirement already satisfied: nltk>=3.2.1 in c:\\users\\dwiah\\anaconda3\\lib\\site-packages (from newspaper3k) (3.5)\n",
      "Requirement already satisfied: beautifulsoup4>=4.4.1 in c:\\users\\dwiah\\anaconda3\\lib\\site-packages (from newspaper3k) (4.9.1)\n",
      "Requirement already satisfied: tldextract>=2.0.1 in c:\\users\\dwiah\\anaconda3\\lib\\site-packages (from newspaper3k) (3.1.2)\n",
      "Requirement already satisfied: PyYAML>=3.11 in c:\\users\\dwiah\\anaconda3\\lib\\site-packages (from newspaper3k) (5.3.1)\n",
      "Requirement already satisfied: six in c:\\users\\dwiah\\appdata\\roaming\\python\\python38\\site-packages (from feedfinder2>=0.0.4->newspaper3k) (1.15.0)\n",
      "Requirement already satisfied: sgmllib3k in c:\\users\\dwiah\\anaconda3\\lib\\site-packages (from feedparser>=5.2.1->newspaper3k) (1.0.0)\n",
      "Requirement already satisfied: certifi>=2017.4.17 in c:\\users\\dwiah\\anaconda3\\lib\\site-packages (from requests>=2.10.0->newspaper3k) (2021.10.8)\n",
      "Requirement already satisfied: urllib3!=1.25.0,!=1.25.1,<1.26,>=1.21.1 in c:\\users\\dwiah\\anaconda3\\lib\\site-packages (from requests>=2.10.0->newspaper3k) (1.25.9)\n",
      "Requirement already satisfied: idna<3,>=2.5 in c:\\users\\dwiah\\anaconda3\\lib\\site-packages (from requests>=2.10.0->newspaper3k) (2.10)\n",
      "Requirement already satisfied: chardet<4,>=3.0.2 in c:\\users\\dwiah\\anaconda3\\lib\\site-packages (from requests>=2.10.0->newspaper3k) (3.0.4)\n",
      "Requirement already satisfied: tqdm in c:\\users\\dwiah\\anaconda3\\lib\\site-packages (from nltk>=3.2.1->newspaper3k) (4.47.0)\n",
      "Requirement already satisfied: joblib in c:\\users\\dwiah\\anaconda3\\lib\\site-packages (from nltk>=3.2.1->newspaper3k) (0.16.0)\n",
      "Requirement already satisfied: regex in c:\\users\\dwiah\\anaconda3\\lib\\site-packages (from nltk>=3.2.1->newspaper3k) (2020.6.8)\n",
      "Requirement already satisfied: click in c:\\users\\dwiah\\anaconda3\\lib\\site-packages (from nltk>=3.2.1->newspaper3k) (7.1.2)\n",
      "Requirement already satisfied: soupsieve>1.2 in c:\\users\\dwiah\\anaconda3\\lib\\site-packages (from beautifulsoup4>=4.4.1->newspaper3k) (2.0.1)\n",
      "Requirement already satisfied: requests-file>=1.4 in c:\\users\\dwiah\\anaconda3\\lib\\site-packages (from tldextract>=2.0.1->newspaper3k) (1.5.1)\n",
      "Requirement already satisfied: filelock>=3.0.8 in c:\\users\\dwiah\\anaconda3\\lib\\site-packages (from tldextract>=2.0.1->newspaper3k) (3.0.12)\n"
     ]
    }
   ],
   "source": [
    "!pip install requests\n",
    "!pip install newspaper3k"
   ]
  },
  {
   "cell_type": "markdown",
   "metadata": {
    "id": "PxYUrS_ZpDyq"
   },
   "source": [
    "## Import Library"
   ]
  },
  {
   "cell_type": "code",
   "execution_count": 2,
   "metadata": {
    "id": "k-Rhll1hpDys"
   },
   "outputs": [],
   "source": [
    "from newspaper import Article\n",
    "import requests"
   ]
  },
  {
   "cell_type": "markdown",
   "metadata": {
    "id": "nTsR2w8QpDyv"
   },
   "source": [
    "## Web Scrapping Single Page News Article"
   ]
  },
  {
   "cell_type": "markdown",
   "metadata": {
    "id": "5j0zjTkIpDyz"
   },
   "source": [
    "Pada bagian ini kita akan melakukan scrapping News Artikel menggunakan Library newspaper. Pertama kita siapkan url news artikel yang ingin kita scraping."
   ]
  },
  {
   "cell_type": "markdown",
   "metadata": {
    "id": "3WjJjopPpDy1"
   },
   "source": [
    "### Menyiapkan Link Berita"
   ]
  },
  {
   "cell_type": "code",
   "execution_count": 3,
   "metadata": {
    "id": "NXUeat6kpDy4"
   },
   "outputs": [],
   "source": [
    "link = 'https://www.kompas.com/edu/read/2021/11/30/220120371/puluhan-ribu-mahasiswa-perguruan-tinggi-sudah-ikut-kampus-merdeka'"
   ]
  },
  {
   "cell_type": "markdown",
   "metadata": {
    "id": "MOgZrmx0pDy7"
   },
   "source": [
    "### Request Alamat URL"
   ]
  },
  {
   "cell_type": "markdown",
   "metadata": {
    "id": "Te3pnt-mpDy9"
   },
   "source": [
    "Selanjutnya kita melakukan request ke halaman url yang kita gunakan, apakah halaman tersebut mengijinkan kita untuk mengakses data yang ada. Jika muncul `<Response [200]>` itu berarti alamat tersebut berhasil kita akses untuk kemudian di scrapping!"
   ]
  },
  {
   "cell_type": "code",
   "execution_count": 4,
   "metadata": {
    "id": "EEqaNdvEpDy-",
    "outputId": "91a6e8cb-6f8a-400a-8565-eab3df8a534e"
   },
   "outputs": [
    {
     "data": {
      "text/plain": [
       "<Response [200]>"
      ]
     },
     "execution_count": 4,
     "metadata": {},
     "output_type": "execute_result"
    }
   ],
   "source": [
    "# Request Halaman URL\n",
    "url = requests.get(link)\n",
    "url"
   ]
  },
  {
   "cell_type": "markdown",
   "metadata": {
    "id": "VN-bgCRlpDzC"
   },
   "source": [
    "## Scrapping Article News using Newspaper Library"
   ]
  },
  {
   "cell_type": "code",
   "execution_count": 5,
   "metadata": {
    "id": "qgt7VdK3pDzD"
   },
   "outputs": [],
   "source": [
    "# Mendefinisikan url link\n",
    "url = 'https://www.kompas.com/edu/read/2021/11/30/220120371/puluhan-ribu-mahasiswa-perguruan-tinggi-sudah-ikut-kampus-merdeka'\n",
    "article = Article(url)"
   ]
  },
  {
   "cell_type": "code",
   "execution_count": 6,
   "metadata": {
    "id": "hbMJnkoFpDzF",
    "outputId": "4c8b92f6-3392-4dfb-8567-ee59309384a7"
   },
   "outputs": [
    {
     "data": {
      "text/plain": [
       "<newspaper.article.Article at 0x13b1d54f8e0>"
      ]
     },
     "execution_count": 6,
     "metadata": {},
     "output_type": "execute_result"
    }
   ],
   "source": [
    "article"
   ]
  },
  {
   "cell_type": "code",
   "execution_count": 7,
   "metadata": {
    "id": "sywThvDepDzI"
   },
   "outputs": [],
   "source": [
    "article.download()\n",
    "article.parse()"
   ]
  },
  {
   "cell_type": "code",
   "execution_count": 8,
   "metadata": {
    "id": "-PS99nBQpDzK",
    "outputId": "11ecd146-99f8-477a-885c-e16682678023"
   },
   "outputs": [
    {
     "data": {
      "text/plain": [
       "'Puluhan Ribu Mahasiswa Perguruan Tinggi Sudah Ikut Kampus Merdeka'"
      ]
     },
     "execution_count": 8,
     "metadata": {},
     "output_type": "execute_result"
    }
   ],
   "source": [
    "# Mengambil Judul Artikel\n",
    "article.title"
   ]
  },
  {
   "cell_type": "code",
   "execution_count": 9,
   "metadata": {
    "id": "093kkJPVpDzL",
    "outputId": "28016762-365d-44f7-f4ea-789be5102c33"
   },
   "outputs": [
    {
     "data": {
      "text/plain": [
       "datetime.datetime(2021, 11, 30, 0, 0)"
      ]
     },
     "execution_count": 9,
     "metadata": {},
     "output_type": "execute_result"
    }
   ],
   "source": [
    "# Mengambil Tanggal Rilis Berita\n",
    "article.publish_date"
   ]
  },
  {
   "cell_type": "code",
   "execution_count": 10,
   "metadata": {
    "id": "QdYMt30SpDzN",
    "outputId": "4afd0d8c-834c-4c8b-8348-3b713aec37d8"
   },
   "outputs": [
    {
     "data": {
      "text/plain": [
       "['Kompas Cyber Media', 'Dian Ihsan']"
      ]
     },
     "execution_count": 10,
     "metadata": {},
     "output_type": "execute_result"
    }
   ],
   "source": [
    "# Mengambil Penulis Berita\n",
    "article.authors"
   ]
  },
  {
   "cell_type": "code",
   "execution_count": 11,
   "metadata": {
    "id": "JQOf4scqpDzO",
    "outputId": "a7e23e63-4895-4474-905f-bdfb7a718af1"
   },
   "outputs": [
    {
     "data": {
      "text/plain": [
       "'https://asset.kompas.com/crops/tUI-VySI439KP1CCiDQVSW6Fja0=/0x0:800x533/780x390/filters:watermark(data/photo/2020/03/10/5e6775dc18fcf.png,0,-0,1)/data/photo/2019/06/27/294330621.jpg'"
      ]
     },
     "execution_count": 11,
     "metadata": {},
     "output_type": "execute_result"
    }
   ],
   "source": [
    "# Mengambil Link Gambar Utama Berita\n",
    "article.top_image"
   ]
  },
  {
   "cell_type": "code",
   "execution_count": 13,
   "metadata": {
    "id": "WXLZ6HR3pDzP",
    "outputId": "db871bbd-4915-48f4-88b0-5f43c75ab122"
   },
   "outputs": [
    {
     "name": "stdout",
     "output_type": "stream",
     "text": [
      "\n"
     ]
    }
   ],
   "source": [
    "# Mengambil Text Berita\n",
    "print(article.text)"
   ]
  },
  {
   "cell_type": "markdown",
   "metadata": {
    "id": "jl7hryajpDzR"
   },
   "source": [
    "## Membuat Fungsi Scrapping Artikel Berita"
   ]
  },
  {
   "cell_type": "code",
   "execution_count": 14,
   "metadata": {
    "id": "ldxQMryZpDzT"
   },
   "outputs": [],
   "source": [
    "def scrapping_news_article(link):\n",
    "    #request url\n",
    "    article = Article(link)\n",
    "  \n",
    "    #html parser \n",
    "    article.download()\n",
    "    article.parse()\n",
    "\n",
    "    #Judul Artikel\n",
    "    judul_berita = article.title\n",
    "\n",
    "    #Tanggal Berita diterbitkan\n",
    "    tanggal_berita = article.publish_date\n",
    "\n",
    "    #Penulis Berita\n",
    "    penulis_berita = article.authors\n",
    "\n",
    "    #Text Berita\n",
    "    isi_berita =  article.text\n",
    "\n",
    "    #Link Lengkap\n",
    "    link_lengkap_berita = link\n",
    "  \n",
    "    return judul_berita, tanggal_berita, penulis_berita, isi_berita, link_lengkap_berita"
   ]
  },
  {
   "cell_type": "code",
   "execution_count": 15,
   "metadata": {
    "id": "Iy5g3oSCpDzU"
   },
   "outputs": [],
   "source": [
    "judul_berita, tanggal_berita, penulis_berita, isi_berita, link_lengkap_berita = scrapping_news_article(link)"
   ]
  },
  {
   "cell_type": "code",
   "execution_count": 16,
   "metadata": {
    "id": "4kO3ugOapDzW",
    "outputId": "8a89c444-75d4-49d2-fae6-ea08fef7afb7"
   },
   "outputs": [
    {
     "data": {
      "text/plain": [
       "'Puluhan Ribu Mahasiswa Perguruan Tinggi Sudah Ikut Kampus Merdeka'"
      ]
     },
     "execution_count": 16,
     "metadata": {},
     "output_type": "execute_result"
    }
   ],
   "source": [
    "judul_berita"
   ]
  },
  {
   "cell_type": "code",
   "execution_count": 17,
   "metadata": {
    "id": "N2SxtLcppDzY",
    "outputId": "9602f9bd-8f60-4c04-b2a6-f90dcbb04339"
   },
   "outputs": [
    {
     "data": {
      "text/plain": [
       "datetime.datetime(2021, 11, 30, 0, 0)"
      ]
     },
     "execution_count": 17,
     "metadata": {},
     "output_type": "execute_result"
    }
   ],
   "source": [
    "tanggal_berita"
   ]
  },
  {
   "cell_type": "code",
   "execution_count": 18,
   "metadata": {
    "id": "-oINc1JspDzZ",
    "outputId": "c194d1b2-51b1-41c2-c7bb-e71b8b8d91d9"
   },
   "outputs": [
    {
     "data": {
      "text/plain": [
       "''"
      ]
     },
     "execution_count": 18,
     "metadata": {},
     "output_type": "execute_result"
    }
   ],
   "source": [
    "isi_berita"
   ]
  },
  {
   "cell_type": "code",
   "execution_count": 19,
   "metadata": {
    "id": "ZiIuTxPrpDzb",
    "outputId": "128eb666-9c26-4de3-c803-ca802e342bbf"
   },
   "outputs": [
    {
     "data": {
      "text/plain": [
       "['Kompas Cyber Media', 'Dian Ihsan']"
      ]
     },
     "execution_count": 19,
     "metadata": {},
     "output_type": "execute_result"
    }
   ],
   "source": [
    "penulis_berita"
   ]
  },
  {
   "cell_type": "markdown",
   "metadata": {
    "id": "HbXT81A-pDzc"
   },
   "source": [
    "# Web Scrapping Multiple Pages News Article"
   ]
  },
  {
   "cell_type": "markdown",
   "metadata": {
    "id": "5IdG3klwpDzd"
   },
   "source": [
    "## Import Library"
   ]
  },
  {
   "cell_type": "code",
   "execution_count": 20,
   "metadata": {
    "id": "1n8EwLLzpDze"
   },
   "outputs": [],
   "source": [
    "import newspaper\n",
    "import pandas as pd"
   ]
  },
  {
   "cell_type": "markdown",
   "metadata": {
    "id": "qT7gqu3hpDzg"
   },
   "source": [
    "## Membangun Newspaper dengan link berita yang diinginkan"
   ]
  },
  {
   "cell_type": "code",
   "execution_count": 49,
   "metadata": {
    "id": "hvC77WrUpDzh"
   },
   "outputs": [],
   "source": [
    "detik_paper = newspaper.build('https://news.detik.com/pro-kontra')"
   ]
  },
  {
   "cell_type": "code",
   "execution_count": 50,
   "metadata": {
    "id": "9oDZGU5npDzj"
   },
   "outputs": [],
   "source": [
    "# Looping list untuk mengekstraksi artikel di dalam newspaper\n",
    "url_list=[]\n",
    "for article in detik_paper.articles:\n",
    "    url_list.append(article.url)"
   ]
  },
  {
   "cell_type": "code",
   "execution_count": 51,
   "metadata": {
    "id": "8sbAXfKOpDzl"
   },
   "outputs": [],
   "source": [
    "url_list=url_list[1:]"
   ]
  },
  {
   "cell_type": "code",
   "execution_count": 52,
   "metadata": {
    "id": "0pyt7Z9rpDzm",
    "outputId": "747048cb-1be4-48db-b6ea-23926fefa46c"
   },
   "outputs": [
    {
     "data": {
      "text/plain": [
       "['https://news.detik.com/berita/d-5899087/layanan-sim-keliling-di-jakpus-jaktim-hari-ini-simak-di-sini',\n",
       " 'https://event.detik.com/galeri/90-nostalgia-bareng-39-akademia-39-lewat-konser-reuni-tanpa-eliminasi',\n",
       " 'https://event.detik.com/galeri/70-buka-puasa-gratis-sesuai-keinginan',\n",
       " 'https://event.detik.com/galeri/17-mengembangkan-kopi-indonesia-dalam-ranah-global',\n",
       " 'https://oto.detik.com/mobil/d-5899145/mulai-sering-kelihatan-di-jalan-hyundai-staria-laris-manis',\n",
       " 'https://oto.detik.com/mobil/d-5898546/kata-hyundai-soal-mobil-rakyat-di-bawah-rp-250-juta-usulan-kemenperin',\n",
       " 'https://oto.detik.com/mobil/d-5898100/canggihnya-pabrik-hyundai-di-cikarang-full-ac-pakai-409-robot-perakit-mobil',\n",
       " 'https://wolipop.detik.com/detiktv/d-5899141/gaya-puan-maharani-hadiri-pernikahan-vidi-aldiano-sheila-dara',\n",
       " 'https://travel.detik.com/travel-news/d-5899057/kunjungi-sentra-jamu-gendong-di-sleman-sandiaga-rasanya-wuenak',\n",
       " 'https://20.detik.com/sport-buzz/20220115-220115051/manchester-city-diprediksi-menang-tipis-dari-chelsea']"
      ]
     },
     "execution_count": 52,
     "metadata": {},
     "output_type": "execute_result"
    }
   ],
   "source": [
    "url_list"
   ]
  },
  {
   "cell_type": "markdown",
   "metadata": {
    "id": "W12j_lZQpDzn"
   },
   "source": [
    "## Membuat Fungsi Scrapping Multi Artikel Berita"
   ]
  },
  {
   "cell_type": "code",
   "execution_count": 46,
   "metadata": {
    "id": "I-tbdILIpDzp"
   },
   "outputs": [],
   "source": [
    "def scrapping_multiple_news_article(url_list):\n",
    "    judul=[]\n",
    "    tanggal=[]\n",
    "    penulis=[]\n",
    "    isi=[]\n",
    "    link_lengkap=[]\n",
    "    for url in url_list:\n",
    "        judul_berita, tanggal_berita, penulis_berita, isi_berita, link_lengkap_berita = scrapping_news_article(url)\n",
    "        judul.append(judul_berita)\n",
    "        tanggal.append(tanggal_berita)\n",
    "        penulis.append(penulis_berita)\n",
    "        isi.append(isi_berita)\n",
    "        link_lengkap.append(link_lengkap_berita)\n",
    "    dataframe=pd.DataFrame({\"Judul\":judul,\n",
    "                           \"Tanggal\":tanggal,\n",
    "                           \"Penulis\":penulis,\n",
    "                           \"Isi\":isi,\n",
    "                           \"Link Lengkap\":link_lengkap})\n",
    "    return dataframe"
   ]
  },
  {
   "cell_type": "markdown",
   "metadata": {
    "id": "cMFoz4FEpDzr"
   },
   "source": [
    "## Menyimpan Data Hasil Scrapping dalam Pandas Dataframe"
   ]
  },
  {
   "cell_type": "code",
   "execution_count": 53,
   "metadata": {
    "id": "QsvHF0TQpDzs",
    "outputId": "5296f737-621b-44c2-85b0-2ab840d5f18e"
   },
   "outputs": [
    {
     "data": {
      "text/html": [
       "<div>\n",
       "<style scoped>\n",
       "    .dataframe tbody tr th:only-of-type {\n",
       "        vertical-align: middle;\n",
       "    }\n",
       "\n",
       "    .dataframe tbody tr th {\n",
       "        vertical-align: top;\n",
       "    }\n",
       "\n",
       "    .dataframe thead th {\n",
       "        text-align: right;\n",
       "    }\n",
       "</style>\n",
       "<table border=\"1\" class=\"dataframe\">\n",
       "  <thead>\n",
       "    <tr style=\"text-align: right;\">\n",
       "      <th></th>\n",
       "      <th>Judul</th>\n",
       "      <th>Tanggal</th>\n",
       "      <th>Penulis</th>\n",
       "      <th>Isi</th>\n",
       "      <th>Link Lengkap</th>\n",
       "    </tr>\n",
       "  </thead>\n",
       "  <tbody>\n",
       "    <tr>\n",
       "      <th>0</th>\n",
       "      <td>Layanan SIM Keliling di Jakpus-Jaktim Hari Ini...</td>\n",
       "      <td>2022-01-15 09:32:37</td>\n",
       "      <td>[Farih Maulana Sidik, Https, Www.Facebook.Com ...</td>\n",
       "      <td>Direktorat Lalu Lintas (Ditlantas) Polda Metro...</td>\n",
       "      <td>https://news.detik.com/berita/d-5899087/layana...</td>\n",
       "    </tr>\n",
       "    <tr>\n",
       "      <th>1</th>\n",
       "      <td>Galeri Detail</td>\n",
       "      <td>NaT</td>\n",
       "      <td>[]</td>\n",
       "      <td></td>\n",
       "      <td>https://event.detik.com/galeri/90-nostalgia-ba...</td>\n",
       "    </tr>\n",
       "    <tr>\n",
       "      <th>2</th>\n",
       "      <td>Galeri Detail</td>\n",
       "      <td>NaT</td>\n",
       "      <td>[]</td>\n",
       "      <td></td>\n",
       "      <td>https://event.detik.com/galeri/70-buka-puasa-g...</td>\n",
       "    </tr>\n",
       "    <tr>\n",
       "      <th>3</th>\n",
       "      <td>Galeri Detail</td>\n",
       "      <td>NaT</td>\n",
       "      <td>[]</td>\n",
       "      <td></td>\n",
       "      <td>https://event.detik.com/galeri/17-mengembangka...</td>\n",
       "    </tr>\n",
       "    <tr>\n",
       "      <th>4</th>\n",
       "      <td>Mulai Sering Kelihatan di Jalan, Hyundai Stari...</td>\n",
       "      <td>2022-01-15 10:55:46</td>\n",
       "      <td>[Luthfi Anshori, Https, Www.Facebook.Com Detik...</td>\n",
       "      <td>Hyundai Staria menjadi salah satu andalan Hyun...</td>\n",
       "      <td>https://oto.detik.com/mobil/d-5899145/mulai-se...</td>\n",
       "    </tr>\n",
       "  </tbody>\n",
       "</table>\n",
       "</div>"
      ],
      "text/plain": [
       "                                               Judul             Tanggal  \\\n",
       "0  Layanan SIM Keliling di Jakpus-Jaktim Hari Ini... 2022-01-15 09:32:37   \n",
       "1                                      Galeri Detail                 NaT   \n",
       "2                                      Galeri Detail                 NaT   \n",
       "3                                      Galeri Detail                 NaT   \n",
       "4  Mulai Sering Kelihatan di Jalan, Hyundai Stari... 2022-01-15 10:55:46   \n",
       "\n",
       "                                             Penulis  \\\n",
       "0  [Farih Maulana Sidik, Https, Www.Facebook.Com ...   \n",
       "1                                                 []   \n",
       "2                                                 []   \n",
       "3                                                 []   \n",
       "4  [Luthfi Anshori, Https, Www.Facebook.Com Detik...   \n",
       "\n",
       "                                                 Isi  \\\n",
       "0  Direktorat Lalu Lintas (Ditlantas) Polda Metro...   \n",
       "1                                                      \n",
       "2                                                      \n",
       "3                                                      \n",
       "4  Hyundai Staria menjadi salah satu andalan Hyun...   \n",
       "\n",
       "                                        Link Lengkap  \n",
       "0  https://news.detik.com/berita/d-5899087/layana...  \n",
       "1  https://event.detik.com/galeri/90-nostalgia-ba...  \n",
       "2  https://event.detik.com/galeri/70-buka-puasa-g...  \n",
       "3  https://event.detik.com/galeri/17-mengembangka...  \n",
       "4  https://oto.detik.com/mobil/d-5899145/mulai-se...  "
      ]
     },
     "execution_count": 53,
     "metadata": {},
     "output_type": "execute_result"
    }
   ],
   "source": [
    "Hasil_Scrapping=scrapping_multiple_news_article(url_list)\n",
    "Hasil_Scrapping.head()"
   ]
  },
  {
   "cell_type": "markdown",
   "metadata": {
    "id": "K_InIzgFpDzt"
   },
   "source": [
    "## Menyimpan Data Hasil Scrapping dalam file CSV"
   ]
  },
  {
   "cell_type": "code",
   "execution_count": 54,
   "metadata": {
    "id": "qdChiTe_pDzu"
   },
   "outputs": [],
   "source": [
    "Hasil_Scrapping.to_csv('Scrapping_detik_prokontra.csv', index=False)"
   ]
  },
  {
   "cell_type": "code",
   "execution_count": null,
   "metadata": {},
   "outputs": [],
   "source": []
  }
 ],
 "metadata": {
  "colab": {
   "name": "3 Scrapping Data News Artikel dengan Newspaper3k.ipynb",
   "provenance": []
  },
  "kernelspec": {
   "display_name": "Python 3",
   "language": "python",
   "name": "python3"
  },
  "language_info": {
   "codemirror_mode": {
    "name": "ipython",
    "version": 3
   },
   "file_extension": ".py",
   "mimetype": "text/x-python",
   "name": "python",
   "nbconvert_exporter": "python",
   "pygments_lexer": "ipython3",
   "version": "3.8.3"
  }
 },
 "nbformat": 4,
 "nbformat_minor": 4
}
